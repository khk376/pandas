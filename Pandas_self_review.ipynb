{
 "cells": [
  {
   "cell_type": "markdown",
   "metadata": {},
   "source": [
    "# Series "
   ]
  },
  {
   "cell_type": "markdown",
   "metadata": {},
   "source": [
    "Series는 1차원 배열과 같은 자료구조인데, NumPy 배열과 유사하게 index와 value를 갖고 있다.<br> 하지만 pandas Series가 갖고 있는 특징은 **색인(index)을 지정할 수 있다는 특징**이 있다."
   ]
  },
  {
   "cell_type": "markdown",
   "metadata": {},
   "source": [
    "# DataFrame "
   ]
  },
  {
   "cell_type": "markdown",
   "metadata": {},
   "source": [
    "DataFrame\n",
    "DataFrame은 표와 같은 스트레드시트 형식의 자료구조이다! 여러 개의 칼럼(column)으로 구성되어 있는데,<br>각 칼럼 별로 서로 다른 종류의 자료형(숫자, 문자열, True/False)을 저장할 수 있다. <br>*— 한편 NumPy의 다차원 행렬은 모든 칼럼이 동일한 자료형을 저장할 수 있는 자료구조*\n",
    "\n",
    "내부적으로는 동일한 index 구성을 갖는 Sereis 객체를 담고 있는 파이썬 사전(python Dictionary)라고 생각할 수 있다!"
   ]
  },
  {
   "cell_type": "code",
   "execution_count": null,
   "metadata": {},
   "outputs": [],
   "source": []
  }
 ],
 "metadata": {
  "kernelspec": {
   "display_name": "Python 3",
   "language": "python",
   "name": "python3"
  },
  "language_info": {
   "codemirror_mode": {
    "name": "ipython",
    "version": 3
   },
   "file_extension": ".py",
   "mimetype": "text/x-python",
   "name": "python",
   "nbconvert_exporter": "python",
   "pygments_lexer": "ipython3",
   "version": "3.7.0"
  }
 },
 "nbformat": 4,
 "nbformat_minor": 2
}
